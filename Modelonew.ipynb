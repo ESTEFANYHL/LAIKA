{
 "cells": [
  {
   "cell_type": "code",
   "execution_count": null,
   "metadata": {},
   "outputs": [
    {
     "name": "stdout",
     "output_type": "stream",
     "text": [
      "WARNING:tensorflow:From c:\\Users\\otice\\AppData\\Local\\Programs\\Python\\Python311\\Lib\\site-packages\\keras\\src\\losses.py:2976: The name tf.losses.sparse_softmax_cross_entropy is deprecated. Please use tf.compat.v1.losses.sparse_softmax_cross_entropy instead.\n",
      "\n",
      "Found 3200 images belonging to 4 classes.\n",
      "Found 800 images belonging to 4 classes.\n"
     ]
    }
   ],
   "source": [
    "import tensorflow as tf\n",
    "from keras.preprocessing.image import ImageDataGenerator\n",
    "\n",
    "# Configura el generador de datos\n",
    "datagen = ImageDataGenerator(\n",
    "    rescale=1.0/255.0,  # Normalización de las imágenes\n",
    "    validation_split=0.2,  # División para validación\n",
    "    rotation_range=10,  # Rotación aleatoria en un rango de 20 grados\n",
    "    width_shift_range=0.1,  # Desplazamiento horizontal aleatorio\n",
    "    height_shift_range=0.1,  # Desplazamiento vertical aleatorio\n",
    "    shear_range=0.1,  # Transformación de cizalla\n",
    "    zoom_range=0.1,  # Zoom aleatorio\n",
    "    horizontal_flip=True,  # Volteo horizontal aleatorio\n",
    "    fill_mode='nearest'  # Cómo rellenar los píxeles faltantes\n",
    ")\n",
    "\n",
    "# Carga el dataset\n",
    "train_generator = datagen.flow_from_directory(\n",
    "    'C:\\\\Users\\\\otice\\\\Downloads\\\\Petmood\\\\datasetmod\\\\Dog Emotion',\n",
    "    target_size=(150, 150),  # Tamaño al que redimensionar las imágenes\n",
    "    batch_size=32,\n",
    "    class_mode='categorical',  # Para clasificación múltiple\n",
    "    subset='training'  # Para datos de entrenamiento\n",
    ")\n",
    "\n",
    "validation_datagen = ImageDataGenerator(rescale=1.0/255.0, validation_split=0.2)\n",
    "validation_generator = validation_datagen.flow_from_directory(\n",
    "    'C:\\\\Users\\\\otice\\\\Downloads\\\\Petmood\\\\datasetmod\\\\Dog Emotion',\n",
    "    target_size=(150, 150),\n",
    "    batch_size=32,\n",
    "    class_mode='categorical', \n",
    "    subset='validation'  # Para datos de validación\n",
    ")"
   ]
  },
  {
   "cell_type": "code",
   "execution_count": 3,
   "metadata": {},
   "outputs": [
    {
     "name": "stdout",
     "output_type": "stream",
     "text": [
      "WARNING:tensorflow:From c:\\Users\\otice\\AppData\\Local\\Programs\\Python\\Python311\\Lib\\site-packages\\keras\\src\\backend.py:873: The name tf.get_default_graph is deprecated. Please use tf.compat.v1.get_default_graph instead.\n",
      "\n",
      "WARNING:tensorflow:From c:\\Users\\otice\\AppData\\Local\\Programs\\Python\\Python311\\Lib\\site-packages\\keras\\src\\layers\\pooling\\max_pooling2d.py:161: The name tf.nn.max_pool is deprecated. Please use tf.nn.max_pool2d instead.\n",
      "\n"
     ]
    }
   ],
   "source": [
    "model = tf.keras.Sequential([\n",
    "    tf.keras.layers.Conv2D(32, (3, 3), activation='relu', input_shape=(150, 150, 3)),\n",
    "    tf.keras.layers.MaxPooling2D(pool_size=(2, 2)),\n",
    "\n",
    "    tf.keras.layers.Conv2D(64, (3, 3), activation='relu'),\n",
    "    tf.keras.layers.MaxPooling2D(pool_size=(2, 2)),\n",
    "\n",
    "    tf.keras.layers.Conv2D(128, (3, 3), activation='relu'),\n",
    "    tf.keras.layers.MaxPooling2D(pool_size=(2, 2)),\n",
    "\n",
    "    tf.keras.layers.Conv2D(256, (3, 3), activation='relu'),\n",
    "    tf.keras.layers.MaxPooling2D(pool_size=(2, 2)),\n",
    "\n",
    "    tf.keras.layers.Flatten(),\n",
    "    tf.keras.layers.Dense(256, activation='relu'),\n",
    "    tf.keras.layers.Dropout(0.5),\n",
    "    tf.keras.layers.Dense(4, activation='softmax')\n",
    "])\n"
   ]
  },
  {
   "cell_type": "code",
   "execution_count": 4,
   "metadata": {},
   "outputs": [
    {
     "name": "stdout",
     "output_type": "stream",
     "text": [
      "WARNING:tensorflow:From c:\\Users\\otice\\AppData\\Local\\Programs\\Python\\Python311\\Lib\\site-packages\\keras\\src\\optimizers\\__init__.py:309: The name tf.train.Optimizer is deprecated. Please use tf.compat.v1.train.Optimizer instead.\n",
      "\n"
     ]
    }
   ],
   "source": [
    "model.compile(optimizer='adam', \n",
    "              loss='categorical_crossentropy', \n",
    "              metrics=['accuracy'])"
   ]
  },
  {
   "cell_type": "code",
   "execution_count": 5,
   "metadata": {},
   "outputs": [
    {
     "name": "stdout",
     "output_type": "stream",
     "text": [
      "Epoch 1/25\n",
      "WARNING:tensorflow:From c:\\Users\\otice\\AppData\\Local\\Programs\\Python\\Python311\\Lib\\site-packages\\keras\\src\\utils\\tf_utils.py:492: The name tf.ragged.RaggedTensorValue is deprecated. Please use tf.compat.v1.ragged.RaggedTensorValue instead.\n",
      "\n",
      "WARNING:tensorflow:From c:\\Users\\otice\\AppData\\Local\\Programs\\Python\\Python311\\Lib\\site-packages\\keras\\src\\engine\\base_layer_utils.py:384: The name tf.executing_eagerly_outside_functions is deprecated. Please use tf.compat.v1.executing_eagerly_outside_functions instead.\n",
      "\n",
      "100/100 [==============================] - 73s 704ms/step - loss: 1.3856 - accuracy: 0.2675 - val_loss: 1.3474 - val_accuracy: 0.3438\n",
      "Epoch 2/25\n",
      "100/100 [==============================] - 66s 657ms/step - loss: 1.3336 - accuracy: 0.3181 - val_loss: 1.2980 - val_accuracy: 0.3325\n",
      "Epoch 3/25\n",
      "100/100 [==============================] - 63s 626ms/step - loss: 1.3098 - accuracy: 0.3291 - val_loss: 1.2725 - val_accuracy: 0.3587\n",
      "Epoch 4/25\n",
      "100/100 [==============================] - 74s 736ms/step - loss: 1.2961 - accuracy: 0.3338 - val_loss: 1.2881 - val_accuracy: 0.3388\n",
      "Epoch 5/25\n",
      "100/100 [==============================] - 67s 665ms/step - loss: 1.2916 - accuracy: 0.3400 - val_loss: 1.2736 - val_accuracy: 0.3537\n",
      "Epoch 6/25\n",
      "100/100 [==============================] - 67s 672ms/step - loss: 1.2755 - accuracy: 0.3694 - val_loss: 1.2949 - val_accuracy: 0.3625\n",
      "Epoch 7/25\n",
      "100/100 [==============================] - 64s 644ms/step - loss: 1.2732 - accuracy: 0.3738 - val_loss: 1.2539 - val_accuracy: 0.3750\n",
      "Epoch 8/25\n",
      "100/100 [==============================] - 62s 622ms/step - loss: 1.2599 - accuracy: 0.3703 - val_loss: 1.2275 - val_accuracy: 0.4100\n",
      "Epoch 9/25\n",
      "100/100 [==============================] - 59s 593ms/step - loss: 1.2468 - accuracy: 0.3784 - val_loss: 1.2370 - val_accuracy: 0.3837\n",
      "Epoch 10/25\n",
      "100/100 [==============================] - 60s 602ms/step - loss: 1.2284 - accuracy: 0.4084 - val_loss: 1.2303 - val_accuracy: 0.3950\n",
      "Epoch 11/25\n",
      "100/100 [==============================] - 59s 589ms/step - loss: 1.2216 - accuracy: 0.4047 - val_loss: 1.2159 - val_accuracy: 0.4288\n",
      "Epoch 12/25\n",
      "100/100 [==============================] - 60s 601ms/step - loss: 1.2102 - accuracy: 0.4266 - val_loss: 1.2023 - val_accuracy: 0.4137\n",
      "Epoch 13/25\n",
      "100/100 [==============================] - 65s 654ms/step - loss: 1.1967 - accuracy: 0.4313 - val_loss: 1.1841 - val_accuracy: 0.4100\n",
      "Epoch 14/25\n",
      "100/100 [==============================] - 64s 639ms/step - loss: 1.1616 - accuracy: 0.4509 - val_loss: 1.1571 - val_accuracy: 0.4475\n",
      "Epoch 15/25\n",
      "100/100 [==============================] - 64s 644ms/step - loss: 1.1449 - accuracy: 0.4728 - val_loss: 1.1530 - val_accuracy: 0.4787\n",
      "Epoch 16/25\n",
      "100/100 [==============================] - 65s 653ms/step - loss: 1.1305 - accuracy: 0.4959 - val_loss: 1.0998 - val_accuracy: 0.4812\n",
      "Epoch 17/25\n",
      "100/100 [==============================] - 66s 660ms/step - loss: 1.1068 - accuracy: 0.4909 - val_loss: 1.1365 - val_accuracy: 0.4812\n",
      "Epoch 18/25\n",
      "100/100 [==============================] - 65s 651ms/step - loss: 1.0679 - accuracy: 0.5303 - val_loss: 1.0863 - val_accuracy: 0.5000\n",
      "Epoch 19/25\n",
      "100/100 [==============================] - 64s 639ms/step - loss: 1.0351 - accuracy: 0.5556 - val_loss: 1.1067 - val_accuracy: 0.5075\n",
      "Epoch 20/25\n",
      "100/100 [==============================] - 64s 635ms/step - loss: 0.9864 - accuracy: 0.5891 - val_loss: 1.0072 - val_accuracy: 0.5638\n",
      "Epoch 21/25\n",
      "100/100 [==============================] - 63s 634ms/step - loss: 0.9578 - accuracy: 0.5897 - val_loss: 0.9659 - val_accuracy: 0.5838\n",
      "Epoch 22/25\n",
      "100/100 [==============================] - 74s 744ms/step - loss: 0.9232 - accuracy: 0.6172 - val_loss: 1.0448 - val_accuracy: 0.5550\n",
      "Epoch 23/25\n",
      "100/100 [==============================] - 65s 647ms/step - loss: 0.9015 - accuracy: 0.6222 - val_loss: 0.9514 - val_accuracy: 0.6125\n",
      "Epoch 24/25\n",
      "100/100 [==============================] - 68s 677ms/step - loss: 0.8640 - accuracy: 0.6394 - val_loss: 0.9593 - val_accuracy: 0.5888\n",
      "Epoch 25/25\n",
      "100/100 [==============================] - 67s 664ms/step - loss: 0.8578 - accuracy: 0.6469 - val_loss: 1.0191 - val_accuracy: 0.5600\n"
     ]
    }
   ],
   "source": [
    "history = model.fit(\n",
    "    train_generator,\n",
    "    validation_data=validation_generator,\n",
    "    epochs=25 # Cambia el número de épocas según necesites\n",
    ")"
   ]
  },
  {
   "cell_type": "code",
   "execution_count": 6,
   "metadata": {},
   "outputs": [
    {
     "name": "stdout",
     "output_type": "stream",
     "text": [
      "25/25 [==============================] - 5s 177ms/step - loss: 1.0191 - accuracy: 0.5600\n",
      "Validation accuracy: 56.00%\n"
     ]
    }
   ],
   "source": [
    "# Evaluar el modelo\n",
    "val_loss, val_accuracy = model.evaluate(validation_generator)\n",
    "print(f'Validation accuracy: {val_accuracy * 100:.2f}%')"
   ]
  },
  {
   "cell_type": "code",
   "execution_count": 7,
   "metadata": {},
   "outputs": [
    {
     "name": "stderr",
     "output_type": "stream",
     "text": [
      "c:\\Users\\otice\\AppData\\Local\\Programs\\Python\\Python311\\Lib\\site-packages\\keras\\src\\engine\\training.py:3103: UserWarning: You are saving your model as an HDF5 file via `model.save()`. This file format is considered legacy. We recommend using instead the native Keras format, e.g. `model.save('my_model.keras')`.\n",
      "  saving_api.save_model(\n"
     ]
    }
   ],
   "source": [
    "# Guardar el modelo\n",
    "model.save('modelo_perros.h5')"
   ]
  },
  {
   "cell_type": "code",
   "execution_count": 8,
   "metadata": {},
   "outputs": [
    {
     "data": {
      "text/plain": [
       "[<matplotlib.lines.Line2D at 0x240f7b7fb50>]"
      ]
     },
     "execution_count": 8,
     "metadata": {},
     "output_type": "execute_result"
    },
    {
     "data": {
      "image/png": "[encoded data removed]",
      "text/plain": [
       "<Figure size 640x480 with 1 Axes>"
      ]
     },
     "metadata": {},
     "output_type": "display_data"
    }
   ],
   "source": [
    "import matplotlib.pyplot as plt\n",
    "plt.xlabel(\"# Epoca\")\n",
    "plt.ylabel(\"Magnitud de pérdida\")\n",
    "plt.plot(history.history[\"loss\"])"
   ]
  },
  {
   "cell_type": "code",
   "execution_count": null,
   "metadata": {},
   "outputs": [],
   "source": [
    "from keras.models import load_model\n",
    "\n",
    "# Cargar el modelo previamente guardado\n",
    "model = load_model('modelo_perros.h5')"
   ]
  },
  {
   "cell_type": "code",
   "execution_count": null,
   "metadata": {},
   "outputs": [],
   "source": [
    "from keras.preprocessing import image\n",
    "import numpy as np\n",
    "\n",
    "def load_and_preprocess_image(img_path):\n",
    "    # Cargar la imagen\n",
    "    img = image.load_img(img_path, target_size=(150, 150))\n",
    "    # Convertir la imagen a un array numpy\n",
    "    img_array = image.img_to_array(img)\n",
    "    # Normalizar la imagen (mismo preprocesamiento que durante el entrenamiento)\n",
    "    img_array = img_array / 255.0\n",
    "    # Agregar una dimensión extra para que sea compatible con el modelo\n",
    "    img_array = np.expand_dims(img_array, axis=0)\n",
    "    return img_array"
   ]
  },
  {
   "cell_type": "code",
   "execution_count": null,
   "metadata": {},
   "outputs": [],
   "source": [
    "# Ruta a la imagen que deseas probar\n",
    "img_path = 'C:\\\\Users\\\\otice\\\\Downloads\\\\Petmood\\\\datasetmod\\\\Dog Emotion\\\\relaxed\\\\aiyFMX1WWouCmNNkvJaZVmUUwOZyz1113.jpg'\n",
    "\n",
    "# Preprocesar la imagen\n",
    "img_array = load_and_preprocess_image(img_path)\n",
    "\n",
    "# Realizar la predicción\n",
    "predictions = model.predict(img_array)\n",
    "\n",
    "# Obtener la clase predicha\n",
    "predicted_class = np.argmax(predictions, axis=1)\n",
    "# Obtener las clases y sus nombres\n",
    "class_indices = train_generator.class_indices\n",
    "class_labels = list(class_indices.keys())\n",
    "\n",
    "# Mostrar la clase predicha\n",
    "print(f'Predicción: {class_labels[predicted_class[0]]}')"
   ]
  },
  {
   "cell_type": "code",
   "execution_count": null,
   "metadata": {},
   "outputs": [],
   "source": [
    "# En desarrollo. Funcionalidad para ingresar varias imagenes y desplegar un resultado único\n",
    "image_paths = ['ruta/a/imagen1.jpg', 'ruta/a/imagen2.jpg', ...]\n",
    "\n",
    "for img_path in image_paths:\n",
    "    img_array = load_and_preprocess_image(img_path)\n",
    "    predictions = model.predict(img_array)\n",
    "    predicted_class = np.argmax(predictions, axis=1)\n",
    "    print(f'Predicción para {img_path}: {class_labels[predicted_class[0]]}')\n"
   ]
  }
 ],
 "metadata": {
  "kernelspec": {
   "display_name": "Python 3",
   "language": "python",
   "name": "python3"
  },
  "language_info": {
   "codemirror_mode": {
    "name": "ipython",
    "version": 3
   },
   "file_extension": ".py",
   "mimetype": "text/x-python",
   "name": "python",
   "nbconvert_exporter": "python",
   "pygments_lexer": "ipython3",
   "version": "3.11.0"
  }
 },
 "nbformat": 4,
 "nbformat_minor": 2
}
