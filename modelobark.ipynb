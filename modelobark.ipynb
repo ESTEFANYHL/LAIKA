{
 "cells": [
  {
   "cell_type": "code",
   "execution_count": 1,
   "metadata": {},
   "outputs": [],
   "source": [
    "import librosa\n",
    "import numpy as np\n",
    "\n",
    "def preprocess_audio(file_path, sr=22050, duration=5):\n",
    "    try:\n",
    "        # Cargar el audio\n",
    "        audio, _ = librosa.load(file_path, sr=sr)\n",
    "        # Calcular la longitud deseada en muestras\n",
    "        target_length = sr * duration\n",
    "        # Ajustar la longitud del audio: cortar o rellenar silencio\n",
    "        audio = librosa.util.fix_length(audio, size=target_length)\n",
    "        return audio\n",
    "    except Exception as e:\n",
    "        print(f\"Error al procesar el archivo {file_path}: {e}\")\n",
    "        return None"
   ]
  },
  {
   "cell_type": "code",
   "execution_count": 2,
   "metadata": {},
   "outputs": [],
   "source": [
    "def extract_features(audio, sr=22050, n_mfcc=13):\n",
    "    mfcc = librosa.feature.mfcc(y=audio, sr=sr, n_mfcc=n_mfcc)\n",
    "    return np.mean(mfcc.T, axis=0)  "
   ]
  },
  {
   "cell_type": "code",
   "execution_count": 3,
   "metadata": {},
   "outputs": [],
   "source": [
    "import os\n",
    "\n",
    "def load_dataset(data_dir, sr=22050, duration=5, n_mfcc=13):\n",
    "    X, y = [], []\n",
    "    classes = os.listdir(data_dir)  # Cada carpeta es una clase\n",
    "    for label, cls in enumerate(classes):\n",
    "        class_path = os.path.join(data_dir, cls)\n",
    "        for file in os.listdir(class_path):\n",
    "            file_path = os.path.join(class_path, file)\n",
    "            try:\n",
    "                audio = preprocess_audio(file_path, sr, duration)\n",
    "                features = extract_features(audio, sr, n_mfcc)\n",
    "                X.append(features)\n",
    "                y.append(label)\n",
    "            except Exception as e:\n",
    "                print(f\"Error con el archivo {file_path}: {e}\")\n",
    "    return np.array(X), np.array(y), classes\n"
   ]
  },
  {
   "cell_type": "code",
   "execution_count": 4,
   "metadata": {},
   "outputs": [],
   "source": [
    "from sklearn.model_selection import train_test_split\n",
    "\n",
    "X, y, classes = load_dataset(\"C:\\\\Users\\\\otice\\\\Downloads\\\\Petmood\\\\datasetmod\\\\dogbark\")\n",
    "X_train, X_test, y_train, y_test = train_test_split(X, y, test_size=0.1, random_state=42)\n"
   ]
  },
  {
   "cell_type": "code",
   "execution_count": 5,
   "metadata": {},
   "outputs": [
    {
     "name": "stdout",
     "output_type": "stream",
     "text": [
      "WARNING:tensorflow:From c:\\Users\\otice\\AppData\\Local\\Programs\\Python\\Python311\\Lib\\site-packages\\keras\\src\\losses.py:2976: The name tf.losses.sparse_softmax_cross_entropy is deprecated. Please use tf.compat.v1.losses.sparse_softmax_cross_entropy instead.\n",
      "\n",
      "WARNING:tensorflow:From c:\\Users\\otice\\AppData\\Local\\Programs\\Python\\Python311\\Lib\\site-packages\\keras\\src\\backend.py:873: The name tf.get_default_graph is deprecated. Please use tf.compat.v1.get_default_graph instead.\n",
      "\n"
     ]
    }
   ],
   "source": [
    "from keras.models import Sequential\n",
    "from keras.layers import Dense\n",
    "from keras.layers import Dropout\n",
    "\n",
    "model = Sequential([\n",
    "    Dense(256, activation='relu', input_shape=(X_train.shape[1],)),\n",
    "    Dropout(0.3),  \n",
    "    Dense(128, activation='relu'),\n",
    "    Dense(64, activation='relu'),\n",
    "    Dense(32, activation='relu'),\n",
    "    Dense(len(classes), activation='softmax')\n",
    "])"
   ]
  },
  {
   "cell_type": "code",
   "execution_count": 6,
   "metadata": {},
   "outputs": [
    {
     "name": "stdout",
     "output_type": "stream",
     "text": [
      "WARNING:tensorflow:From c:\\Users\\otice\\AppData\\Local\\Programs\\Python\\Python311\\Lib\\site-packages\\keras\\src\\optimizers\\__init__.py:309: The name tf.train.Optimizer is deprecated. Please use tf.compat.v1.train.Optimizer instead.\n",
      "\n"
     ]
    }
   ],
   "source": [
    "model.compile(\n",
    "    optimizer='adam', \n",
    "    loss='sparse_categorical_crossentropy', \n",
    "    metrics=['accuracy']\n",
    ")"
   ]
  },
  {
   "cell_type": "code",
   "execution_count": 7,
   "metadata": {},
   "outputs": [
    {
     "name": "stdout",
     "output_type": "stream",
     "text": [
      "Epoch 1/50\n",
      "WARNING:tensorflow:From c:\\Users\\otice\\AppData\\Local\\Programs\\Python\\Python311\\Lib\\site-packages\\keras\\src\\utils\\tf_utils.py:492: The name tf.ragged.RaggedTensorValue is deprecated. Please use tf.compat.v1.ragged.RaggedTensorValue instead.\n",
      "\n",
      "WARNING:tensorflow:From c:\\Users\\otice\\AppData\\Local\\Programs\\Python\\Python311\\Lib\\site-packages\\keras\\src\\engine\\base_layer_utils.py:384: The name tf.executing_eagerly_outside_functions is deprecated. Please use tf.compat.v1.executing_eagerly_outside_functions instead.\n",
      "\n",
      "6/6 [==============================] - 3s 102ms/step - loss: 8.5983 - accuracy: 0.3000 - val_loss: 10.1657 - val_accuracy: 0.2727\n",
      "Epoch 2/50\n",
      "6/6 [==============================] - 0s 36ms/step - loss: 6.7460 - accuracy: 0.3444 - val_loss: 1.0672 - val_accuracy: 0.6364\n",
      "Epoch 3/50\n",
      "6/6 [==============================] - 0s 19ms/step - loss: 5.1102 - accuracy: 0.4444 - val_loss: 0.9770 - val_accuracy: 0.2727\n",
      "Epoch 4/50\n",
      "6/6 [==============================] - 0s 19ms/step - loss: 4.4023 - accuracy: 0.3556 - val_loss: 3.0525 - val_accuracy: 0.1818\n",
      "Epoch 5/50\n",
      "6/6 [==============================] - 0s 19ms/step - loss: 3.5711 - accuracy: 0.2889 - val_loss: 1.6470 - val_accuracy: 0.2727\n",
      "Epoch 6/50\n",
      "6/6 [==============================] - 0s 20ms/step - loss: 3.4078 - accuracy: 0.3444 - val_loss: 1.0527 - val_accuracy: 0.4545\n",
      "Epoch 7/50\n",
      "6/6 [==============================] - 0s 23ms/step - loss: 2.3187 - accuracy: 0.4111 - val_loss: 0.9080 - val_accuracy: 0.4545\n",
      "Epoch 8/50\n",
      "6/6 [==============================] - 0s 19ms/step - loss: 2.6103 - accuracy: 0.3889 - val_loss: 1.2076 - val_accuracy: 0.1818\n",
      "Epoch 9/50\n",
      "6/6 [==============================] - 0s 16ms/step - loss: 2.2118 - accuracy: 0.4000 - val_loss: 0.5843 - val_accuracy: 0.8182\n",
      "Epoch 10/50\n",
      "6/6 [==============================] - 0s 17ms/step - loss: 2.2989 - accuracy: 0.4111 - val_loss: 0.9443 - val_accuracy: 0.7273\n",
      "Epoch 11/50\n",
      "6/6 [==============================] - 0s 16ms/step - loss: 2.0070 - accuracy: 0.5444 - val_loss: 1.7169 - val_accuracy: 0.3636\n",
      "Epoch 12/50\n",
      "6/6 [==============================] - 0s 16ms/step - loss: 1.9000 - accuracy: 0.4333 - val_loss: 0.8328 - val_accuracy: 0.6364\n",
      "Epoch 13/50\n",
      "6/6 [==============================] - 0s 16ms/step - loss: 1.6658 - accuracy: 0.5222 - val_loss: 0.6927 - val_accuracy: 0.8182\n",
      "Epoch 14/50\n",
      "6/6 [==============================] - 0s 15ms/step - loss: 1.8480 - accuracy: 0.4556 - val_loss: 1.3677 - val_accuracy: 0.4545\n",
      "Epoch 15/50\n",
      "6/6 [==============================] - 0s 13ms/step - loss: 1.2682 - accuracy: 0.4778 - val_loss: 0.6891 - val_accuracy: 0.7273\n",
      "Epoch 16/50\n",
      "6/6 [==============================] - 0s 15ms/step - loss: 1.5629 - accuracy: 0.4556 - val_loss: 0.7638 - val_accuracy: 0.7273\n",
      "Epoch 17/50\n",
      "6/6 [==============================] - 0s 13ms/step - loss: 1.6892 - accuracy: 0.3778 - val_loss: 1.1059 - val_accuracy: 0.5455\n",
      "Epoch 18/50\n",
      "6/6 [==============================] - 0s 14ms/step - loss: 1.4293 - accuracy: 0.4667 - val_loss: 0.6525 - val_accuracy: 0.7273\n",
      "Epoch 19/50\n",
      "6/6 [==============================] - 0s 18ms/step - loss: 1.3206 - accuracy: 0.5333 - val_loss: 0.7796 - val_accuracy: 0.6364\n",
      "Epoch 20/50\n",
      "6/6 [==============================] - 0s 16ms/step - loss: 1.1403 - accuracy: 0.5667 - val_loss: 1.0657 - val_accuracy: 0.2727\n",
      "Epoch 21/50\n",
      "6/6 [==============================] - 0s 15ms/step - loss: 1.2768 - accuracy: 0.5333 - val_loss: 0.7109 - val_accuracy: 0.8182\n",
      "Epoch 22/50\n",
      "6/6 [==============================] - 0s 12ms/step - loss: 1.2364 - accuracy: 0.5444 - val_loss: 0.6765 - val_accuracy: 0.7273\n",
      "Epoch 23/50\n",
      "6/6 [==============================] - 0s 14ms/step - loss: 1.0935 - accuracy: 0.5000 - val_loss: 0.9394 - val_accuracy: 0.5455\n",
      "Epoch 24/50\n",
      "6/6 [==============================] - 0s 21ms/step - loss: 1.2392 - accuracy: 0.4778 - val_loss: 1.1240 - val_accuracy: 0.2727\n",
      "Epoch 25/50\n",
      "6/6 [==============================] - 0s 14ms/step - loss: 1.3436 - accuracy: 0.4778 - val_loss: 0.7043 - val_accuracy: 0.6364\n",
      "Epoch 26/50\n",
      "6/6 [==============================] - 0s 13ms/step - loss: 1.1310 - accuracy: 0.5222 - val_loss: 1.1193 - val_accuracy: 0.3636\n",
      "Epoch 27/50\n",
      "6/6 [==============================] - 0s 13ms/step - loss: 1.0525 - accuracy: 0.5000 - val_loss: 0.8261 - val_accuracy: 0.6364\n",
      "Epoch 28/50\n",
      "6/6 [==============================] - 0s 12ms/step - loss: 1.2461 - accuracy: 0.5333 - val_loss: 0.6718 - val_accuracy: 0.7273\n",
      "Epoch 29/50\n",
      "6/6 [==============================] - 0s 17ms/step - loss: 0.9618 - accuracy: 0.5667 - val_loss: 0.8221 - val_accuracy: 0.6364\n",
      "Epoch 30/50\n",
      "6/6 [==============================] - 0s 16ms/step - loss: 1.2044 - accuracy: 0.5111 - val_loss: 0.7198 - val_accuracy: 0.5455\n",
      "Epoch 31/50\n",
      "6/6 [==============================] - 0s 18ms/step - loss: 0.8774 - accuracy: 0.6000 - val_loss: 0.6473 - val_accuracy: 0.8182\n",
      "Epoch 32/50\n",
      "6/6 [==============================] - 0s 11ms/step - loss: 0.8398 - accuracy: 0.5667 - val_loss: 0.6309 - val_accuracy: 0.7273\n",
      "Epoch 33/50\n",
      "6/6 [==============================] - 0s 11ms/step - loss: 0.9785 - accuracy: 0.5889 - val_loss: 0.9521 - val_accuracy: 0.5455\n",
      "Epoch 34/50\n",
      "6/6 [==============================] - 0s 13ms/step - loss: 0.7578 - accuracy: 0.6556 - val_loss: 0.6885 - val_accuracy: 0.7273\n",
      "Epoch 35/50\n",
      "6/6 [==============================] - 0s 15ms/step - loss: 0.9761 - accuracy: 0.4778 - val_loss: 0.5814 - val_accuracy: 0.8182\n",
      "Epoch 36/50\n",
      "6/6 [==============================] - 0s 15ms/step - loss: 0.9810 - accuracy: 0.5556 - val_loss: 0.6660 - val_accuracy: 0.7273\n",
      "Epoch 37/50\n",
      "6/6 [==============================] - 0s 13ms/step - loss: 0.8679 - accuracy: 0.6333 - val_loss: 0.7411 - val_accuracy: 0.6364\n",
      "Epoch 38/50\n",
      "6/6 [==============================] - 0s 13ms/step - loss: 0.9618 - accuracy: 0.5556 - val_loss: 0.5354 - val_accuracy: 0.7273\n",
      "Epoch 39/50\n",
      "6/6 [==============================] - 0s 13ms/step - loss: 0.9756 - accuracy: 0.6000 - val_loss: 0.5537 - val_accuracy: 0.7273\n",
      "Epoch 40/50\n",
      "6/6 [==============================] - 0s 11ms/step - loss: 0.9287 - accuracy: 0.5444 - val_loss: 0.6424 - val_accuracy: 0.7273\n",
      "Epoch 41/50\n",
      "6/6 [==============================] - 0s 13ms/step - loss: 0.8522 - accuracy: 0.6111 - val_loss: 0.6533 - val_accuracy: 0.7273\n",
      "Epoch 42/50\n",
      "6/6 [==============================] - 0s 12ms/step - loss: 0.7957 - accuracy: 0.6556 - val_loss: 0.6775 - val_accuracy: 0.6364\n",
      "Epoch 43/50\n",
      "6/6 [==============================] - 0s 17ms/step - loss: 0.6967 - accuracy: 0.6333 - val_loss: 0.5892 - val_accuracy: 0.7273\n",
      "Epoch 44/50\n",
      "6/6 [==============================] - 0s 16ms/step - loss: 0.8007 - accuracy: 0.6444 - val_loss: 0.4809 - val_accuracy: 0.7273\n",
      "Epoch 45/50\n",
      "6/6 [==============================] - 0s 13ms/step - loss: 0.9395 - accuracy: 0.5778 - val_loss: 0.4699 - val_accuracy: 0.8182\n",
      "Epoch 46/50\n",
      "6/6 [==============================] - 0s 13ms/step - loss: 0.7129 - accuracy: 0.7111 - val_loss: 0.5648 - val_accuracy: 0.7273\n",
      "Epoch 47/50\n",
      "6/6 [==============================] - 0s 13ms/step - loss: 0.9458 - accuracy: 0.5333 - val_loss: 0.5802 - val_accuracy: 0.8182\n",
      "Epoch 48/50\n",
      "6/6 [==============================] - 0s 13ms/step - loss: 0.7226 - accuracy: 0.6667 - val_loss: 0.4918 - val_accuracy: 0.8182\n",
      "Epoch 49/50\n",
      "6/6 [==============================] - 0s 17ms/step - loss: 0.9262 - accuracy: 0.6000 - val_loss: 0.6539 - val_accuracy: 0.6364\n",
      "Epoch 50/50\n",
      "6/6 [==============================] - 0s 14ms/step - loss: 0.8179 - accuracy: 0.6333 - val_loss: 0.6475 - val_accuracy: 0.6364\n"
     ]
    },
    {
     "data": {
      "text/plain": [
       "<keras.src.callbacks.History at 0x14b16cda650>"
      ]
     },
     "execution_count": 7,
     "metadata": {},
     "output_type": "execute_result"
    }
   ],
   "source": [
    "model.fit(\n",
    "    X_train, \n",
    "    y_train, \n",
    "    epochs=50, \n",
    "    batch_size=16, \n",
    "    validation_split=0.1\n",
    ")"
   ]
  },
  {
   "cell_type": "code",
   "execution_count": 8,
   "metadata": {},
   "outputs": [
    {
     "name": "stdout",
     "output_type": "stream",
     "text": [
      "1/1 [==============================] - 0s 86ms/step - loss: 0.8428 - accuracy: 0.7500\n",
      "Validation accuracy: 75.00%\n"
     ]
    }
   ],
   "source": [
    "loss, accuracy = model.evaluate(X_test, y_test)\n",
    "print(f'Validation accuracy: {accuracy * 100:.2f}%')"
   ]
  },
  {
   "cell_type": "code",
   "execution_count": 9,
   "metadata": {},
   "outputs": [
    {
     "name": "stderr",
     "output_type": "stream",
     "text": [
      "c:\\Users\\otice\\AppData\\Local\\Programs\\Python\\Python311\\Lib\\site-packages\\keras\\src\\engine\\training.py:3103: UserWarning: You are saving your model as an HDF5 file via `model.save()`. This file format is considered legacy. We recommend using instead the native Keras format, e.g. `model.save('my_model.keras')`.\n",
      "  saving_api.save_model(\n"
     ]
    }
   ],
   "source": [
    "model.save(\"modelo_bark.h5\")"
   ]
  },
  {
   "cell_type": "code",
   "execution_count": 10,
   "metadata": {},
   "outputs": [],
   "source": [
    "from keras.models import load_model\n",
    "model = load_model(\"modelo_bark.h5\")"
   ]
  },
  {
   "cell_type": "code",
   "execution_count": 11,
   "metadata": {},
   "outputs": [
    {
     "name": "stdout",
     "output_type": "stream",
     "text": [
      "1/1 [==============================] - 0s 258ms/step\n",
      "Predicción: Advertencia o miedo\n"
     ]
    }
   ],
   "source": [
    "def predict_audio(file_path, model, classes, sr=22050, duration=5, n_mfcc=13):\n",
    "    audio = preprocess_audio(file_path, sr, duration)\n",
    "    features = extract_features(audio, sr, n_mfcc)\n",
    "    features = np.expand_dims(features, axis=0)  \n",
    "    prediction = model.predict(features)\n",
    "    predicted_class = classes[np.argmax(prediction)]\n",
    "    return predicted_class\n",
    "\n",
    "archivo = \"C:\\\\Users\\\\otice\\\\Downloads\\\\Petmood\\\\datasetmod\\\\dogbark\\\\Alerta o emoción\\\\dog_10.wav\"\n",
    "print(\"Predicción:\", predict_audio(archivo, model, classes))"
   ]
  },
  {
   "cell_type": "code",
   "execution_count": null,
   "metadata": {},
   "outputs": [],
   "source": [
    "#Licenciamiento de cada una de las herramientas utilizadas o frameworks"
   ]
  }
 ],
 "metadata": {
  "kernelspec": {
   "display_name": "Python 3",
   "language": "python",
   "name": "python3"
  },
  "language_info": {
   "codemirror_mode": {
    "name": "ipython",
    "version": 3
   },
   "file_extension": ".py",
   "mimetype": "text/x-python",
   "name": "python",
   "nbconvert_exporter": "python",
   "pygments_lexer": "ipython3",
   "version": "3.11.0"
  }
 },
 "nbformat": 4,
 "nbformat_minor": 2
}
